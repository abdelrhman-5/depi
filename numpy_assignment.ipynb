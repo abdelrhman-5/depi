{
 "cells": [
  {
   "cell_type": "code",
   "execution_count": 1,
   "id": "4854c8c1-0eb8-4292-8526-97f892c90229",
   "metadata": {},
   "outputs": [],
   "source": [
    "import numpy as np\n",
    "import matplotlib as plt\n",
    "import pandas as pd"
   ]
  },
  {
   "cell_type": "markdown",
   "id": "eb75af0a-bde3-4fc5-847c-c1fdb4ba1a8b",
   "metadata": {
    "jp-MarkdownHeadingCollapsed": true
   },
   "source": [
    "# 1. Broadcasting"
   ]
  },
  {
   "cell_type": "markdown",
   "id": "a7ac0065-f89a-4f9d-94d0-59e070969f7b",
   "metadata": {
    "jp-MarkdownHeadingCollapsed": true
   },
   "source": [
    "## a) Add a 1D array `[1, 2, 3]` to each row of a 2D array `[[10, 20, 30], [40, 50, 60]]`.\n",
    "## Expected: [[11, 22, 33], [41, 52, 63]]"
   ]
  },
  {
   "cell_type": "code",
   "execution_count": 2,
   "id": "e259c723-cad9-4124-8700-6d93942db2d1",
   "metadata": {},
   "outputs": [
    {
     "data": {
      "text/plain": [
       "array([[11, 22, 33],\n",
       "       [41, 52, 63]])"
      ]
     },
     "execution_count": 2,
     "metadata": {},
     "output_type": "execute_result"
    }
   ],
   "source": [
    "a = np.array([[10, 20, 30], [40, 50, 60]])\n",
    "b = np.array([1, 2, 3])\n",
    "result = a + b\n",
    "result"
   ]
  },
  {
   "cell_type": "markdown",
   "id": "6f46b0af-466b-4a40-ba03-e1ab569a755e",
   "metadata": {},
   "source": [
    "## b) Multiply a 2D array `[[1, 2], [3, 4]]` by a 1D array `[10, 20]` column-wise.\n",
    "## Expected: [[10, 20], [60, 80]]"
   ]
  },
  {
   "cell_type": "code",
   "execution_count": 3,
   "id": "f112eb74-b50d-49fa-95e6-a1af656d3365",
   "metadata": {},
   "outputs": [
    {
     "data": {
      "text/plain": [
       "array([[10, 20],\n",
       "       [60, 80]])"
      ]
     },
     "execution_count": 3,
     "metadata": {},
     "output_type": "execute_result"
    }
   ],
   "source": [
    "aa = np.array([[1, 2], [3, 4]])\n",
    "bb = np.array([10, 20])\n",
    "resultt = aa * bb[:, np.newaxis]\n",
    "resultt"
   ]
  },
  {
   "cell_type": "markdown",
   "id": "664b4dc2-4ccb-482a-84a0-0cd7fd7615ac",
   "metadata": {
    "jp-MarkdownHeadingCollapsed": true
   },
   "source": [
    "# 2. Indexing and Slicing (High Dimensional Arrays)\n"
   ]
  },
  {
   "cell_type": "code",
   "execution_count": 5,
   "id": "26515d1d-c675-4fa7-9722-87be0aba65ef",
   "metadata": {},
   "outputs": [
    {
     "data": {
      "text/plain": [
       "array([[[ 1,  2,  3,  4],\n",
       "        [ 5,  6,  7,  8],\n",
       "        [ 9, 10, 11, 12]],\n",
       "\n",
       "       [[13, 14, 15, 16],\n",
       "        [17, 18, 19, 20],\n",
       "        [21, 22, 23, 24]]])"
      ]
     },
     "execution_count": 5,
     "metadata": {},
     "output_type": "execute_result"
    }
   ],
   "source": [
    "arr = np.arange(1, 25).reshape(2, 3, 4)\n",
    "arr"
   ]
  },
  {
   "cell_type": "markdown",
   "id": "42aba660-1a80-42d9-9e9e-e33fd06d6418",
   "metadata": {},
   "source": [
    "## a) Extract the second slice along axis 0"
   ]
  },
  {
   "cell_type": "code",
   "execution_count": 6,
   "id": "2826e369-9649-40fd-8fdb-1acaf1875029",
   "metadata": {},
   "outputs": [
    {
     "data": {
      "text/plain": [
       "array([[13, 14, 15, 16],\n",
       "       [17, 18, 19, 20],\n",
       "       [21, 22, 23, 24]])"
      ]
     },
     "execution_count": 6,
     "metadata": {},
     "output_type": "execute_result"
    }
   ],
   "source": [
    "second_slice = arr[1]\n",
    "second_slice"
   ]
  },
  {
   "cell_type": "markdown",
   "id": "d21ff87f-8cbf-4ead-9b4b-5d0eed9e49bd",
   "metadata": {},
   "source": [
    "## b) Extract all rows and the last column for all slices"
   ]
  },
  {
   "cell_type": "code",
   "execution_count": 7,
   "id": "5b98fac5-c132-45d2-a8e5-09553feec704",
   "metadata": {},
   "outputs": [
    {
     "data": {
      "text/plain": [
       "array([[ 4,  8, 12],\n",
       "       [16, 20, 24]])"
      ]
     },
     "execution_count": 7,
     "metadata": {},
     "output_type": "execute_result"
    }
   ],
   "source": [
    "last_column = arr[:, :, -1]\n",
    "last_column"
   ]
  },
  {
   "cell_type": "markdown",
   "id": "29368659-fa7e-4d31-875d-0f47be9b14d9",
   "metadata": {},
   "source": [
    "## c) Reverse the order of slices along axis 0"
   ]
  },
  {
   "cell_type": "code",
   "execution_count": 8,
   "id": "e5b59b5f-c83c-4ec4-b8e9-f9fc90a125c5",
   "metadata": {},
   "outputs": [
    {
     "data": {
      "text/plain": [
       "array([[[13, 14, 15, 16],\n",
       "        [17, 18, 19, 20],\n",
       "        [21, 22, 23, 24]],\n",
       "\n",
       "       [[ 1,  2,  3,  4],\n",
       "        [ 5,  6,  7,  8],\n",
       "        [ 9, 10, 11, 12]]])"
      ]
     },
     "execution_count": 8,
     "metadata": {},
     "output_type": "execute_result"
    }
   ],
   "source": [
    "reversed_slices = arr[::-1]\n",
    "reversed_slices"
   ]
  },
  {
   "cell_type": "markdown",
   "id": "79c4bef5-3bdf-4bda-b0db-f640d6a88c0a",
   "metadata": {},
   "source": [
    "## d) Set all even elements in the array to -1"
   ]
  },
  {
   "cell_type": "code",
   "execution_count": 9,
   "id": "1035fbdd-4d27-471e-ab9b-26deaa7dda15",
   "metadata": {},
   "outputs": [
    {
     "data": {
      "text/plain": [
       "array([[[ 1, -1,  3, -1],\n",
       "        [ 5, -1,  7, -1],\n",
       "        [ 9, -1, 11, -1]],\n",
       "\n",
       "       [[13, -1, 15, -1],\n",
       "        [17, -1, 19, -1],\n",
       "        [21, -1, 23, -1]]])"
      ]
     },
     "execution_count": 9,
     "metadata": {},
     "output_type": "execute_result"
    }
   ],
   "source": [
    "arr_with_negatives = arr.copy()\n",
    "arr_with_negatives[arr_with_negatives % 2 == 0] = -1\n",
    "arr_with_negatives"
   ]
  },
  {
   "cell_type": "markdown",
   "id": "3fbb8f7c-0e7c-4385-9088-ba94ba9aeeb8",
   "metadata": {
    "jp-MarkdownHeadingCollapsed": true
   },
   "source": [
    "# 3. np.repeat"
   ]
  },
  {
   "cell_type": "markdown",
   "id": "dcfa275e-8f19-4ffc-b59c-85bd2e917bf7",
   "metadata": {},
   "source": [
    "## a) Given `arr = np.array([1, 2, 3, 4, 5, 6])`, create a new array where every odd element is repeated twice.\n",
    "## Expected: [1, 1, 3, 3, 5, 5]"
   ]
  },
  {
   "cell_type": "code",
   "execution_count": 10,
   "id": "88c4a4cc-c83e-417f-ad77-b4a544155620",
   "metadata": {},
   "outputs": [
    {
     "data": {
      "text/plain": [
       "array([ 1,  1,  3,  3,  5,  5,  7,  7,  9,  9, 11, 11, 13, 13, 15, 15, 17,\n",
       "       17, 19, 19, 21, 21, 23, 23])"
      ]
     },
     "execution_count": 10,
     "metadata": {},
     "output_type": "execute_result"
    }
   ],
   "source": [
    "arrr = np.array([1, 2, 3, 4, 5, 6])\n",
    "odd_elements = arr[arr % 2 == 1]\n",
    "result = np.repeat(odd_elements, 2)\n",
    "result"
   ]
  },
  {
   "cell_type": "markdown",
   "id": "c95970e9-45e8-4ba7-a4b7-559b092224a8",
   "metadata": {},
   "source": [
    "## b) Given `arr = np.array([1, 2, 3, 4, 5, 6])`, create a new array where elements are repeated based on their value.\n",
    "## For example, `1` is repeated once, `2` twice, etc.\n",
    "## Expected: [1, 2, 2, 3, 3, 3, 4, 4, 4, 4, ...]"
   ]
  },
  {
   "cell_type": "code",
   "execution_count": 11,
   "id": "84606d84-4c57-4125-bd19-8ceddf068312",
   "metadata": {},
   "outputs": [
    {
     "data": {
      "text/plain": [
       "array([1, 2, 2, 3, 3, 3, 4, 4, 4, 4, 5, 5, 5, 5, 5, 6, 6, 6, 6, 6, 6])"
      ]
     },
     "execution_count": 11,
     "metadata": {},
     "output_type": "execute_result"
    }
   ],
   "source": [
    "arr = np.array([1, 2, 3, 4, 5, 6])\n",
    "result = np.repeat(arr, arr)\n",
    "result"
   ]
  },
  {
   "cell_type": "markdown",
   "id": "760b14c3-75bb-499a-95a9-a6c227f5af6c",
   "metadata": {
    "jp-MarkdownHeadingCollapsed": true
   },
   "source": [
    "# 4. Normalizing"
   ]
  },
  {
   "cell_type": "markdown",
   "id": "b7dc5ca4-7d91-447f-861a-82f3d1874d1b",
   "metadata": {},
   "source": [
    "## a) Normalize a 1D array `arr = np.array([10, 20, 30])` to have values between 0 and 1.\n",
    "## Expected: [0.0, 0.5, 1.0]"
   ]
  },
  {
   "cell_type": "code",
   "execution_count": 12,
   "id": "d8ef0b46-177e-465e-a445-5bdf7cbc6ce1",
   "metadata": {},
   "outputs": [
    {
     "data": {
      "text/plain": [
       "array([0. , 0.5, 1. ])"
      ]
     },
     "execution_count": 12,
     "metadata": {},
     "output_type": "execute_result"
    }
   ],
   "source": [
    "arr = np.array([10, 20, 30])\n",
    "normalized_arr = (arr - arr.min()) / (arr.max() - arr.min())\n",
    "normalized_arr"
   ]
  },
  {
   "cell_type": "markdown",
   "id": "cc8bd727-7125-4c25-847d-0a1a5a4b9e1b",
   "metadata": {
    "jp-MarkdownHeadingCollapsed": true
   },
   "source": [
    "# 5. Bonus Challenge"
   ]
  },
  {
   "cell_type": "markdown",
   "id": "7035459c-785c-45dd-8c36-ca81fb690ef2",
   "metadata": {},
   "source": [
    "## a) Normalize a 1D array `arr = np.array([10, 20, 30])` to have values between 0 and 1.\n",
    "## Expected: [0.0, 0.5, 1.0]"
   ]
  },
  {
   "cell_type": "code",
   "execution_count": 13,
   "id": "b7b80a2a-3c68-4852-ba81-25bfa4da862b",
   "metadata": {},
   "outputs": [
    {
     "data": {
      "text/plain": [
       "array([[0, 0, 0],\n",
       "       [0, 1, 2],\n",
       "       [0, 2, 4]])"
      ]
     },
     "execution_count": 13,
     "metadata": {},
     "output_type": "execute_result"
    }
   ],
   "source": [
    "n = 3\n",
    "i = np.arange(n).reshape(n, 1)  \n",
    "j = np.arange(n)  \n",
    "matrix = i * j\n",
    "matrix"
   ]
  },
  {
   "cell_type": "markdown",
   "id": "ea17ac00-af13-4e1b-8454-b13406ebfdbd",
   "metadata": {},
   "source": [
    "## b) Given a 4x4 matrix, replace all elements on the main diagonal with 0 without using a loop.\n",
    "## Expected: Diagonal elements replaced with 0."
   ]
  },
  {
   "cell_type": "code",
   "execution_count": 14,
   "id": "5abd138b-c612-4f67-a216-5877dfb2d825",
   "metadata": {},
   "outputs": [
    {
     "data": {
      "text/plain": [
       "array([[0, 6, 4, 7],\n",
       "       [9, 0, 2, 8],\n",
       "       [5, 7, 0, 4],\n",
       "       [7, 3, 7, 0]])"
      ]
     },
     "execution_count": 14,
     "metadata": {},
     "output_type": "execute_result"
    }
   ],
   "source": [
    "matrix = np.random.randint(1, 10, (4, 4))  \n",
    "np.fill_diagonal(matrix, 0)\n",
    "matrix"
   ]
  }
 ],
 "metadata": {
  "kernelspec": {
   "display_name": "Python 3 (ipykernel)",
   "language": "python",
   "name": "python3"
  },
  "language_info": {
   "codemirror_mode": {
    "name": "ipython",
    "version": 3
   },
   "file_extension": ".py",
   "mimetype": "text/x-python",
   "name": "python",
   "nbconvert_exporter": "python",
   "pygments_lexer": "ipython3",
   "version": "3.12.2"
  }
 },
 "nbformat": 4,
 "nbformat_minor": 5
}
